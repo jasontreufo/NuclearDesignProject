{
  "nbformat": 4,
  "nbformat_minor": 0,
  "metadata": {
    "colab": {
      "provenance": []
    },
    "kernelspec": {
      "name": "python3",
      "display_name": "Python 3"
    },
    "language_info": {
      "name": "python"
    }
  },
  "cells": [
    {
      "cell_type": "code",
      "execution_count": 45,
      "metadata": {
        "id": "9_7I7kCOZVsm"
      },
      "outputs": [],
      "source": [
        "# Design specifications and material properties\n",
        "\n",
        "import numpy as np\n",
        "import matplotlib as plt\n",
        "\n",
        "\n",
        "# Fuel assembly (FA) representative of average core conditions\n",
        "P_FA = 6.641 #[MW] Fuel assembly thermal power\n",
        "N_FP = 284 #[pin] Number of fuel pins in the fuel assembly\n",
        "q_l = 26.03 #[kW/m] Linear heat rate at fuel midplane, q'(0)\n",
        "pitch = 13.6 #[mm] Pin pitch\n",
        "T_co_in = 400 #[°C] Coolant inlet temperature\n",
        "T_co_out = 480 #[°C] Coolant outlet temperature\n",
        "\n",
        "# Coolant properties (uniform along the channel) - Liquid Pb\n",
        "cp_co = 146 #[J/kg-°C] Average heat capacity\n",
        "rho_co = 10520 #[kg/m^3] Average density\n",
        "mu_co = 0.002 #[Pa-s] Average dynamic viscosity\n",
        "k_co = 15.5 #[W/m-°C] Average thermal conductivity\n",
        "\n",
        "# Fuel pins\n",
        "D_clad_ext = 8.50 #[mm] External diameter\n",
        "t_clad = 0.600 #[mm] Cladding thickness\n",
        "H_act = 1100 #[mm] Active length\n",
        "H_tot = 2100 #[mm] Total length\n",
        "\n",
        "# Fuel - solid pellets (MOX)\n",
        "TD_fuel = 11.31 #[g/cm^3] Theoretical density of MOX fuel\n",
        "rho_fuel = 0.88*TD_fuel #[g/cm^3] Density of fuel\n",
        "T_fuel_melt = 2730 #[°C] Melting temperature of fresh fuel\n",
        "D_fuel = 6.98 #[mm] Fuel pellet diameter\n",
        "alpha_l_fuel = 12e-6 #[°C^-1] Linear coefficient of thermal expansion (T_ref = 25°C)\n",
        "Y_fuel = 170 #[GPa] Young's modulus of solid pellets\n",
        "nu_poisson_fuel = 0.31 #[/] Poisson's coefficient\n",
        "\n",
        "# Cladding - Ferritic-martensitic steel T91 (UNS No. K90901)\n",
        "T_clad_melt = 1500 #[°C] Melting temperature of cladding\n",
        "k_clad = 28.7 #[W/m-°C] Average thermal conductivity of cladding\n",
        "alpha_l_clad = 12e-6 #[°C^-1] Linear coefficient of thermal expansion (T_ref = 25°C)\n",
        "Y_clad = 170 #[GPa] Young's modulus of cladding\n",
        "nu_poisson_clad = 0.3 #[/] Poisson's coefficient\n",
        "#SY_clad = 563.1 - 4.878e-1*T_clad + 1.6e-3*T_clad**2 - 3e-6*T_clad**3 + 8e-10*T_clad**4 #[MPa] Yield strength of cladding"
      ]
    },
    {
      "cell_type": "code",
      "source": [
        "# COLD GEOMETRY ANALYSIS\n",
        "\n",
        "# Coolant mass flowrate\n",
        "P_FP = P_FA/N_FP #[MW/pin] Average thermal power per fuel pin\n",
        "m_co = P_FP/(cp_co*(T_co_out - T_co_in))*1e6 #[kg/s] Average coolant mass flowrate per channel\n",
        "volflow_co = m_co/rho_co #[m^3/s] Average volumetric flow of coolant per channel\n",
        "print('Average thermal power per fuel pin:',P_FP,'[MW/pin]')\n",
        "print('Average coolant mass flowrate per channel:',m_co,'[kg/s]')\n",
        "\n",
        "# Geometry of channel\n",
        "A_channel = pitch**2-(np.pi*D_clad_ext**2/4) #[mm^2] Area channel\n",
        "P_w = np.pi*D_clad_ext #[mm] Wet perimeter\n",
        "D_h = 4*A_channel/P_w/1000 #[m] Hydraulic diameter of channel\n",
        "print('Hydraulic diameter of channel:',D_h, '[m]')\n",
        "\n",
        "# Calculation of velocity of coolant in channel\n",
        "v_co = volflow_co/(A_channel/1e6) #[m/s] Average velocity of coolant in channel\n",
        "print('Average velocity of coolant in channel',v_co,'[m/s]')\n",
        "\n",
        "# Reynolds number of coolant\n",
        "Re_co = rho_co*v_co*D_h/mu_co #[/]\n",
        "print('Reynolds number of coolant:', Re_co)\n",
        "\n",
        "# Darcy factor\n",
        "f_darcy=0.184*Re_co**(-0.20)\n",
        "print('Darcy factor of coolant per channel:', f_darcy)\n",
        "\n",
        "# Calculation of Prandtl number\n",
        "Pr_co = mu_co*cp_co/k_co #[/]\n",
        "print('Prandtl number of coolant:', Pr_co)\n",
        "\n",
        "# Calculation of Peclet number\n",
        "Pe_co = Re_co*Pr_co #[/]\n",
        "print('Peclet number of coolant:', Pe_co)\n",
        "\n",
        "# Calculation of Nusselt number\n",
        "x = pitch/D_clad_ext #[/] Pin-pitch to cladding outer diameter ratio\n",
        "print('Pin-pitch to cladding outer diameter ratio:', x)\n",
        "Nu_co_1 = 0.58*(D_h/(D_clad_ext/1000))**0.55*Pe_co**0.45 #discarded x value out of range\n",
        "Nu_co = 4.5 + 0.014*Pe_co**0.8\n",
        "print('Nusselt1 number of coolant:', Nu_co_1)\n",
        "print('Nusselt number of coolant:', Nu_co)\n",
        "\n",
        "# Heat transfer coefficient of coolant\n",
        "h_co = Nu_co*k_co/D_h #[W/m^2-°C]\n",
        "print('Heat transfer coefficient of coolant:', h_co, '[W/m^2-°C]')"
      ],
      "metadata": {
        "colab": {
          "base_uri": "https://localhost:8080/"
        },
        "id": "aUpUWMMIrsdz",
        "outputId": "954b3b0a-bf8a-471f-d9b3-bece9701f467"
      },
      "execution_count": 46,
      "outputs": [
        {
          "output_type": "stream",
          "name": "stdout",
          "text": [
            "Average thermal power per fuel pin: 0.02338380281690141 [MW/pin]\n",
            "Average coolant mass flowrate per channel: 2.0020379124059424 [kg/s]\n",
            "Hydraulic diameter of channel: 0.01920569249343714 [m]\n",
            "Average velocity of coolant in channel 1.4842866438142674 [m/s]\n",
            "Reynolds number of coolant: 149945.52000789868\n",
            "Darcy factor of coolant per channel: 0.01696801830703975\n",
            "Prandtl number of coolant: 0.018838709677419355\n",
            "Peclet number of coolant: 2824.7801188584785\n",
            "Pin-pitch to cladding outer diameter ratio: 1.5999999999999999\n",
            "Nusselt1 number of coolant: 32.439724710137625\n",
            "Nusselt number of coolant: 12.570784551614757\n",
            "Heat transfer coefficient of coolant: 10145.281697945067 [W/m^2-°C]\n"
          ]
        }
      ]
    },
    {
      "cell_type": "code",
      "source": [
        "# HOT GEOMETRY ANALYSIS\n",
        "\n",
        "# Radial temperature profile in fuel pin\n",
        "\n",
        "theta_gas = (T_gas_fuel + T_gas_clad)/2 #[°C] Average temperature of Helium\n",
        "k_gas = 15.8e-4*theta_gas**0.79 #[W/m-K] Thermal conductivity of Helium\n",
        "\n"
      ],
      "metadata": {
        "colab": {
          "base_uri": "https://localhost:8080/",
          "height": 219
        },
        "id": "4EfQyTIenK_B",
        "outputId": "822a38c7-f7c0-491f-fcc8-82e1f8ce0382"
      },
      "execution_count": 47,
      "outputs": [
        {
          "output_type": "error",
          "ename": "NameError",
          "evalue": "name 'T_gas_fuel' is not defined",
          "traceback": [
            "\u001b[0;31m---------------------------------------------------------------------------\u001b[0m",
            "\u001b[0;31mNameError\u001b[0m                                 Traceback (most recent call last)",
            "\u001b[0;32m<ipython-input-47-14cfeb5d0e18>\u001b[0m in \u001b[0;36m<cell line: 5>\u001b[0;34m()\u001b[0m\n\u001b[1;32m      3\u001b[0m \u001b[0;31m# Radial temperature profile in fuel pin\u001b[0m\u001b[0;34m\u001b[0m\u001b[0;34m\u001b[0m\u001b[0m\n\u001b[1;32m      4\u001b[0m \u001b[0;34m\u001b[0m\u001b[0m\n\u001b[0;32m----> 5\u001b[0;31m \u001b[0mtheta_gas\u001b[0m \u001b[0;34m=\u001b[0m \u001b[0;34m(\u001b[0m\u001b[0mT_gas_fuel\u001b[0m \u001b[0;34m+\u001b[0m \u001b[0mT_gas_clad\u001b[0m\u001b[0;34m)\u001b[0m\u001b[0;34m/\u001b[0m\u001b[0;36m2\u001b[0m \u001b[0;31m#[°C] Average temperature of Helium\u001b[0m\u001b[0;34m\u001b[0m\u001b[0;34m\u001b[0m\u001b[0m\n\u001b[0m\u001b[1;32m      6\u001b[0m \u001b[0mk_gas\u001b[0m \u001b[0;34m=\u001b[0m \u001b[0;36m15.8e-4\u001b[0m\u001b[0;34m*\u001b[0m\u001b[0mtheta_gas\u001b[0m\u001b[0;34m**\u001b[0m\u001b[0;36m0.79\u001b[0m \u001b[0;31m#[W/m-K] Thermal conductivity of Helium\u001b[0m\u001b[0;34m\u001b[0m\u001b[0;34m\u001b[0m\u001b[0m\n\u001b[1;32m      7\u001b[0m \u001b[0;34m\u001b[0m\u001b[0m\n",
            "\u001b[0;31mNameError\u001b[0m: name 'T_gas_fuel' is not defined"
          ]
        }
      ]
    }
  ]
}